{
 "cells": [
  {
   "cell_type": "markdown",
   "id": "2ef785c9-a1c0-4ad7-a185-02a1569ca072",
   "metadata": {},
   "source": [
    "# Model Based System Engineering Assistant: \n",
    "## Leveraging AI for System Engineering models \n",
    "\n",
    "Welcome to the **MBSE Assistant Notebook**, a powerful tool designed to augment your ability to review, comprehend, and enhance system models with AI-driven support. This notebook integrates a variety of capabilities to assist with:\n",
    "\n",
    "1. **Model Review and Comprehension**:\n",
    "   - Gain deeper insights into the structure and behavior of your system model.\n",
    "   - Use AI to clarify relationships, dependencies, and interactions within the model.\n",
    "\n",
    "2. **Impact Analysis**:\n",
    "   - Explore the potential effects of component failures on the system.\n",
    "   - Simulate scenarios to identify vulnerabilities and design improvements.\n",
    "\n",
    "3. **Simulation Generation**:\n",
    "   - Automatically generate simulations based on the model's architecture and behaviors.\n",
    "   - Use simulations for validation, testing, and demonstration purposes.\n",
    "\n",
    "4. **Failure Analysis**:\n",
    "   - Assess the system's resilience under various failure conditions.\n",
    "   - Extract meaningful insights to strengthen reliability and performance.\n",
    "\n",
    "5. **Content Extraction for Downstream Domains**:\n",
    "   - Convert model data into formats suitable for use in other engineering domains.\n",
    "   - Facilitate seamless collaboration across teams and tools.\n",
    "\n",
    "This notebook serves as a comprehensive platform to bridge the gap between system models and actionable insights, empowering architects to make informed decisions and design robust solutions. Whether you're investigating enhancements, running failure simulations, or preparing data for external domains, this assistant streamlines the process with AI-enhanced guidance.\n",
    "\n",
    "Feel free to explore and adapt the prompts and models to suit your specific use case. Let’s dive in and unlock the potential of your system model!\n"
   ]
  },
  {
   "cell_type": "markdown",
   "id": "b5acc178-1a94-4014-b1f7-13c97a9ba4ec",
   "metadata": {},
   "source": [
    "### Model-Specific Code (Do Not Modify)\n",
    "\n",
    "This section contains code that is specific to the system model. It is updated only when the model is changed and should not require user modifications under normal circumstances.\n",
    "\n",
    "If a new model is introduced, ensure this section is reviewed and updated as needed.\n"
   ]
  },
  {
   "cell_type": "code",
   "execution_count": 1,
   "id": "c7ba8743-5dac-41be-9083-d44aa0199411",
   "metadata": {
    "scrolled": true
   },
   "outputs": [
    {
     "name": "stderr",
     "output_type": "stream",
     "text": [
      "Ignoring file of unknown type, loaded model may be incomplete: EV Thermal System.traceability\n"
     ]
    }
   ],
   "source": [
    "\n",
    "import capellambse.decl\n",
    "resources = {\n",
    "    \"EV_Thermal_System\": \"EV_Thermal_System/EV Thermal System\",\n",
    "}\n",
    "path_to_model = \"../EV Thermal System.aird\"\n",
    "model = capellambse.MelodyModel(path_to_model, resources=resources)\n",
    "import capellambse_helper\n",
    "\n",
    "from IPython import display as diag_display\n",
    "import Pub4C\n",
    "# Instantiate the class with the traceability file\n",
    "Traceability_store = Pub4C.Traceability_Store(\"../EV Thermal System.traceability\")\n"
   ]
  },
  {
   "cell_type": "code",
   "execution_count": null,
   "id": "5f73131d-3ba3-4c6f-8418-378d418156a6",
   "metadata": {
    "jupyter": {
     "source_hidden": true
    }
   },
   "outputs": [],
   "source": []
  },
  {
   "cell_type": "markdown",
   "id": "98e07f65-caa7-4e20-9268-7c5df4783e36",
   "metadata": {},
   "source": [
    "## 🔄 Embedding Generation Process\n",
    "\n",
    "### Overview\n",
    "This section generates embeddings, which streamlines processing and analyzing the model. The embeddings provide a structured representation of the data that powers subsequent tasks and visualizations.\n",
    "\n",
    "### When is this step necessary?\n",
    "- **Initial Run:** If this notebook is being run for the first time, embeddings will need to be generated.\n",
    "- **Model Updates:** If the underlying model has been modified, regenerating embeddings ensures the data remains accurate and up-to-date.\n",
    "\n",
    "### Important Notes\n",
    "- **Duration:** This process may take **a minute or more** to complete, depending on the size and complexity of the model.\n",
    "- **Output:** Upon completion, embeddings will be ready for use in subsequent sections of the notebook.\n",
    "\n",
    "### Instructions\n",
    "1. Ensure the required model is loaded.\n",
    "2. Run the cell below to initiate the embedding generation process.\n",
    "3. Wait for the process to complete before proceeding.\n",
    "\n",
    "> 💡 **Tip:** You can monitor progress in the notebook's output cell. If any errors occur, check that the model is properly configured and accessible.\n",
    "\n",
    "---\n",
    "\n",
    "> ⚠️ **Warning:** Interrupting this step may result in incomplete or invalid embeddings. If interrupted, re-run the cell to restart the process.\n",
    "\n",
    "---\n",
    "\n",
    "Continue to the next cell to generate embeddings. 🚀\n"
   ]
  },
  {
   "cell_type": "code",
   "execution_count": 2,
   "id": "2c54cb77-76e8-4309-90e0-7da1d2a2d9f8",
   "metadata": {
    "jupyter": {
     "source_hidden": true
    }
   },
   "outputs": [
    {
     "name": "stdout",
     "output_type": "stream",
     "text": [
      "OpenAI API Key retrieved successfully.\n",
      "Loading embeddings\n"
     ]
    }
   ],
   "source": [
    "import Open_AI_RAG_manager\n",
    "\n",
    "# Generate embeddings for all objects\n",
    "model_embedding_manager = Open_AI_RAG_manager.EmbeddingManager()\n",
    "\n",
    "embedding_file = \"embeddings.json\" \n",
    "model_embedding_manager.set_files( path_to_model , embedding_file)\n",
    "\n",
    "model_embedding_manager.create_model_embeddings(model)"
   ]
  },
  {
   "cell_type": "markdown",
   "id": "f671a45d-5335-463c-802a-156296f21ad4",
   "metadata": {},
   "source": [
    "## 🎯 Prompt for System Model Element Analysis\n",
    "\n",
    "### Purpose\n",
    "This cell accepts a prompt to identify and isolate the specific object(s) to be analyzed. Providing detailed and accurate information in the prompt will ensure the best performance during the analysis.\n",
    "\n",
    "### What to Include in Your Prompt\n",
    "For optimal results, specify the following details about the object(s):\n",
    "1. **Type of ARCADIA Object:** Clearly state the type of the object (e.g., Logical Component, Physical Component, Functional Exchange).\n",
    "2. **Name of the Object:** Provide the exact name of the object as defined in the model.\n",
    "3. **ARCADIA Phase:** Specify the phase associated with the object (e.g., Operational Analysis, System Analysis, Logical Architecture, Physical Architecture).\n",
    "4. **Related Objects:** Identify any objects connected via exchanges or dependencies.\n",
    "\n",
    "### Example Prompt\n",
    "Locate the Logical Component named Brake Pedal in the Logical phase and has a Driver supplying input.\n",
    "### ✅ Tips for Success\n",
    "- **Use precise terminology:** Ensure your prompt aligns with the model's structure and terminology.\n",
    "- **Include related objects:** Whenever possible, specify related objects to enhance context and improve analysis accuracy.\n",
    "- **Double-check details:** Verify object names and phases to ensure they match the model exactly.\n",
    "'''\n",
    "\n",
    "### 🚀 Next Steps\n",
    "1. Run the cell below.\n",
    "2. Enter your prompt, providing the necessary details as outlined above.\n",
    "3. Wait for the analysis to complete.\n",
    "4. Select the best index or indexes for analysis. (The last selection will drive selection of a prompt.)\n",
    "\n",
    "> 💡 **Tip:** If you're unsure about the model structure, review the documentation or refer to the model's diagrams for additional guidance.\n"
   ]
  },
  {
   "cell_type": "code",
   "execution_count": 3,
   "id": "837e9729-975a-4afb-b73e-9292c03101c4",
   "metadata": {
    "jupyter": {
     "source_hidden": true
    }
   },
   "outputs": [
    {
     "name": "stdout",
     "output_type": "stream",
     "text": [
      "OpenAI API Key retrieved successfully.\n",
      "Loading embeddings\n"
     ]
    },
    {
     "name": "stdin",
     "output_type": "stream",
     "text": [
      "Enter query for objects to be analyzed:  Vehicle Logical Phase \n"
     ]
    },
    {
     "name": "stdout",
     "output_type": "stream",
     "text": [
      "\n",
      "This is a list of ranked Objects Based on Query:\n",
      "Index: 0, Name: Vehicle, Similarity: 0.72, Type: LogicalComponent,Phase: Logical Architecture LA, Source: , Target: \n",
      "Index: 1, Name: Chassis, Similarity: 0.54, Type: LogicalComponent,Phase: Logical Architecture LA, Source: , Target: \n",
      "Index: 2, Name: Move Fluid, Similarity: 0.53, Type: LogicalFunction,Phase: Logical Architecture LA, Source: , Target: \n",
      "Index: 3, Name: Mech, Similarity: 0.51, Type: ComponentExchange,Phase: Logical Architecture LA, Source: Chassis, Target: Electric Motor\n",
      "Index: 4, Name: Electric Motor, Similarity: 0.50, Type: LogicalComponent,Phase: Logical Architecture LA, Source: , Target: \n",
      "Index: 5, Name: Environment, Similarity: 0.50, Type: LogicalComponent,Phase: Logical Architecture LA, Source: , Target: \n",
      "Index: 6, Name: Mechanical, Similarity: 0.49, Type: ComponentExchange,Phase: Logical Architecture LA, Source: Chassis, Target: Battery Pack\n",
      "Index: 7, Name: Pump, Similarity: 0.48, Type: LogicalComponent,Phase: Logical Architecture LA, Source: , Target: \n",
      "Index: 8, Name: Battery Pack, Similarity: 0.47, Type: LogicalComponent,Phase: Logical Architecture LA, Source: , Target: \n",
      "Index: 9, Name: Provide Mechanical  Rotation, Similarity: 0.47, Type: LogicalFunction,Phase: Logical Architecture LA, Source: , Target: \n"
     ]
    },
    {
     "name": "stdin",
     "output_type": "stream",
     "text": [
      "\n",
      "Enter the indices of the selected objects (comma-separated), or any non-integer input to retry:  0\n"
     ]
    }
   ],
   "source": [
    "import Open_AI_RAG_manager\n",
    "\n",
    "# Generate embeddings for all objects\n",
    "model_embedding_manager = Open_AI_RAG_manager.EmbeddingManager()\n",
    "\n",
    "embedding_file = \"embeddings.json\" \n",
    "model_embedding_manager.set_files( path_to_model , embedding_file)\n",
    "\n",
    "model_embedding_manager.create_model_embeddings(model)\n",
    "\n",
    "selected_objects  = Open_AI_RAG_manager.interactive_query_and_selection(model_embedding_manager)"
   ]
  },
  {
   "cell_type": "markdown",
   "id": "83af650f-2ace-4f9e-af79-a566d2e359f3",
   "metadata": {},
   "source": [
    "## 📝 Generate Structured Input File \n",
    "\n",
    "### Purpose\n",
    "This cell generates a structured structured input file, `capella_model.yaml`, which serves as input for prompts tailored to the object type of the last selected item. This ensures that the prompt aligns with the model's structure and provides accurate context for analysis.\n",
    "\n",
    "### What This Cell Does\n",
    "- Extracts data related to the elements selected.\n",
    "- Structures the data into a YAML format.\n",
    "- Saves the YAML file as `capella_model.yaml` for further use.\n",
    "\n",
    "### Key Features\n",
    "- The YAML file includes:\n",
    "  - **Object Type:** The type of the element.\n",
    "  - **Object Details:** Attributes, relationships, and associated exchanges.\n",
    "  - **Structured Input:** Designed to enhance prompt accuracy and model analysis.\n",
    "\n",
    "### Instructions\n",
    "1. Run this cell to create the `capella_model.yaml` file.\n",
    "2. Ensure the last selected item is correctly identified to avoid mismatched data.\n",
    "3. Use the generated YAML file as structured input for tailored prompts in subsequent steps.\n",
    "\n",
    "### Notes\n",
    "- The file will be saved in the current working directory.\n",
    "- If the selected object changes, re-run this cell to update the YAML file.\n",
    "\n",
    "> 💡 **Tip:** Review the contents of `capella_model.yaml` if needed to ensure accuracy and completeness.\n"
   ]
  },
  {
   "cell_type": "code",
   "execution_count": 4,
   "id": "4db8d5ea-0e49-4098-aedc-0914d956f286",
   "metadata": {
    "jupyter": {
     "source_hidden": true
    }
   },
   "outputs": [
    {
     "name": "stdout",
     "output_type": "stream",
     "text": [
      "<FunctionalExchange 'Mechanical Rotation' (07999910-d04f-4516-b7e8-f426bb704be7)>\n",
      ".allocating_component_exchange = ... # backreference to ComponentExchange - omitted: can be slow to compute\n",
      ".applied_property_value_groups = []\n",
      ".applied_property_values = []\n",
      ".categories = ... # backreference to ExchangeCategory - omitted: can be slow to compute\n",
      ".constraints = []\n",
      ".description = Markup('')\n",
      ".diagrams = []\n",
      ".exchange_items = []\n",
      ".filtering_criteria = []\n",
      ".involving_functional_chains = ... # backreference to FunctionalChain - omitted: can be slow to compute\n",
      ".layer = <LogicalArchitecture 'Logical Architecture' (8c299c50-222e-487c-91b8-929dc67eda68)>\n",
      ".name = 'Mechanical Rotation'\n",
      ".owner = <ComponentExchange 'Mech' (03e7f060-d6dd-436c-aa67-de6d0dda1ecb)>\n",
      ".parent = <LogicalFunction 'Root Logical Function' (b9715731-69e4-4280-9818-8b7bbda0a9ea)>\n",
      ".progress_status = 'NOT_SET'\n",
      ".property_value_groups = []\n",
      ".property_value_packages = []\n",
      ".property_values = []\n",
      ".pvmt = <Property Value Management for <FunctionalExchange 'Mechanical Rotation' (07999910-d04f-4516-b7e8-f426bb704be7)>>\n",
      ".realized_functional_exchanges = []\n",
      ".realizing_functional_exchanges = ... # backreference to FunctionalExchange - omitted: can be slow to compute\n",
      ".requirements = []\n",
      ".sid = ''\n",
      ".source = <FunctionOutputPort 'FOP 1' (ae88061a-4042-409e-afbb-b3b6b58b8203)>\n",
      ".summary = ''\n",
      ".target = <FunctionInputPort 'FIP 2' (12278b60-6364-4960-8e28-8109e7ca07a7)>\n",
      ".traces = []\n",
      ".uuid = '07999910-d04f-4516-b7e8-f426bb704be7'\n",
      ".validation = <capellambse.extensions.validation._validate.ElementValidation object at 0x7f74c0528bd0>\n",
      ".visible_on_diagrams = [0] <Diagram '[LAB] Thermal System'>\n",
      ".xtype = 'org.polarsys.capella.core.data.fa:FunctionalExchange'\n",
      "<FunctionalExchange 'Power' (6cddf697-194a-41d9-bc04-76884506fbe7)>\n",
      ".allocating_component_exchange = ... # backreference to ComponentExchange - omitted: can be slow to compute\n",
      ".applied_property_value_groups = []\n",
      ".applied_property_values = []\n",
      ".categories = ... # backreference to ExchangeCategory - omitted: can be slow to compute\n",
      ".constraints = []\n",
      ".description = Markup('')\n",
      ".diagrams = []\n",
      ".exchange_items = []\n",
      ".filtering_criteria = []\n",
      ".involving_functional_chains = ... # backreference to FunctionalChain - omitted: can be slow to compute\n",
      ".layer = <LogicalArchitecture 'Logical Architecture' (8c299c50-222e-487c-91b8-929dc67eda68)>\n",
      ".name = 'Power'\n",
      ".owner = <ComponentExchange 'Electrical' (fbb6b483-f375-4d02-b6e2-af02a53e6c61)>\n",
      ".parent = <LogicalFunction 'Root Logical Function' (b9715731-69e4-4280-9818-8b7bbda0a9ea)>\n",
      ".progress_status = 'NOT_SET'\n",
      ".property_value_groups = []\n",
      ".property_value_packages = []\n",
      ".property_values = []\n",
      ".pvmt = <Property Value Management for <FunctionalExchange 'Power' (6cddf697-194a-41d9-bc04-76884506fbe7)>>\n",
      ".realized_functional_exchanges = []\n",
      ".realizing_functional_exchanges = ... # backreference to FunctionalExchange - omitted: can be slow to compute\n",
      ".requirements = []\n",
      ".sid = ''\n",
      ".source = <FunctionOutputPort 'FOP 1' (69b29426-8796-4f8c-832f-69cb46719e79)>\n",
      ".summary = ''\n",
      ".target = <FunctionInputPort 'FIP 1' (5362fb36-f84c-462d-b3e3-063201cb0957)>\n",
      ".traces = []\n",
      ".uuid = '6cddf697-194a-41d9-bc04-76884506fbe7'\n",
      ".validation = <capellambse.extensions.validation._validate.ElementValidation object at 0x7f74c05ace10>\n",
      ".visible_on_diagrams = [0] <Diagram '[LAB] Thermal System'>\n",
      ".xtype = 'org.polarsys.capella.core.data.fa:FunctionalExchange'\n",
      "<FunctionalExchange 'Cool Fluid' (08f6ce67-cb8c-4f17-ad3c-9d76e38a8b22)>\n",
      ".allocating_component_exchange = ... # backreference to ComponentExchange - omitted: can be slow to compute\n",
      ".applied_property_value_groups = []\n",
      ".applied_property_values = []\n",
      ".categories = ... # backreference to ExchangeCategory - omitted: can be slow to compute\n",
      ".constraints = []\n",
      ".description = Markup('')\n",
      ".diagrams = []\n",
      ".exchange_items = []\n",
      ".filtering_criteria = []\n",
      ".involving_functional_chains = ... # backreference to FunctionalChain - omitted: can be slow to compute\n",
      ".layer = <LogicalArchitecture 'Logical Architecture' (8c299c50-222e-487c-91b8-929dc67eda68)>\n",
      ".name = 'Cool Fluid'\n",
      ".owner = <ComponentExchange 'Coolant' (7866a60e-a0bb-41b4-b2b2-481dfb5f39f0)>\n",
      ".parent = <LogicalFunction 'Root Logical Function' (b9715731-69e4-4280-9818-8b7bbda0a9ea)>\n",
      ".progress_status = 'NOT_SET'\n",
      ".property_value_groups = []\n",
      ".property_value_packages = []\n",
      ".property_values = []\n",
      ".pvmt = <Property Value Management for <FunctionalExchange 'Cool Fluid' (08f6ce67-cb8c-4f17-ad3c-9d76e38a8b22)>>\n",
      ".realized_functional_exchanges = []\n",
      ".realizing_functional_exchanges = ... # backreference to FunctionalExchange - omitted: can be slow to compute\n",
      ".requirements = []\n",
      ".sid = ''\n",
      ".source = <FunctionOutputPort 'FOP 1' (b647df53-45a8-482b-b749-c5aa6591462a)>\n",
      ".summary = ''\n",
      ".target = <FunctionInputPort 'FIP 1' (256f0271-93ae-4a74-a624-a48639f2f9bd)>\n",
      ".traces = []\n",
      ".uuid = '08f6ce67-cb8c-4f17-ad3c-9d76e38a8b22'\n",
      ".validation = <capellambse.extensions.validation._validate.ElementValidation object at 0x7f74c057cdd0>\n",
      ".visible_on_diagrams = [0] <Diagram '[LFCD] Cool Battery'>\n",
      "                       [1] <Diagram '[LAB] Thermal System'>\n",
      "                       [2] <Diagram '[LAB] Thermal System Hydaulic View (Cooling Battery)'>\n",
      "                       [3] <Diagram '[LAB] Thermal System Hydaulic View (Warming Battery)'>\n",
      ".xtype = 'org.polarsys.capella.core.data.fa:FunctionalExchange'\n",
      "<FunctionalExchange 'Cool Fluid' (a98ea407-818c-4ed2-9d96-a94ce837c384)>\n",
      ".allocating_component_exchange = ... # backreference to ComponentExchange - omitted: can be slow to compute\n",
      ".applied_property_value_groups = []\n",
      ".applied_property_values = []\n",
      ".categories = ... # backreference to ExchangeCategory - omitted: can be slow to compute\n",
      ".constraints = []\n",
      ".description = Markup('')\n",
      ".diagrams = []\n",
      ".exchange_items = []\n",
      ".filtering_criteria = []\n",
      ".involving_functional_chains = ... # backreference to FunctionalChain - omitted: can be slow to compute\n",
      ".layer = <LogicalArchitecture 'Logical Architecture' (8c299c50-222e-487c-91b8-929dc67eda68)>\n",
      ".name = 'Cool Fluid'\n",
      ".owner = <ComponentExchange 'Coolant' (18ebc9a9-00c4-45b0-8f1e-aae1fe9682f4)>\n",
      ".parent = <LogicalFunction 'Root Logical Function' (b9715731-69e4-4280-9818-8b7bbda0a9ea)>\n",
      ".progress_status = 'NOT_SET'\n",
      ".property_value_groups = []\n",
      ".property_value_packages = []\n",
      ".property_values = []\n",
      ".pvmt = <Property Value Management for <FunctionalExchange 'Cool Fluid' (a98ea407-818c-4ed2-9d96-a94ce837c384)>>\n",
      ".realized_functional_exchanges = []\n",
      ".realizing_functional_exchanges = ... # backreference to FunctionalExchange - omitted: can be slow to compute\n",
      ".requirements = []\n",
      ".sid = ''\n",
      ".source = <FunctionOutputPort 'FOP 1' (229f1e97-e129-4c97-a5d7-d6f13acddb7f)>\n",
      ".summary = ''\n",
      ".target = <FunctionInputPort 'FIP 1' (75c63121-88c9-4653-aced-f00284c4020f)>\n",
      ".traces = []\n",
      ".uuid = 'a98ea407-818c-4ed2-9d96-a94ce837c384'\n",
      ".validation = <capellambse.extensions.validation._validate.ElementValidation object at 0x7f74c0599a50>\n",
      ".visible_on_diagrams = [0] <Diagram '[LFCD] Warm Battery'>\n",
      "                       [1] <Diagram '[LFCD] Cool Battery'>\n",
      "                       [2] <Diagram '[LAB] Thermal System'>\n",
      "                       [3] <Diagram '[LAB] Thermal System Hydaulic View (Cooling Battery)'>\n",
      "                       [4] <Diagram '[LAB] Thermal System Hydaulic View (Warming Battery)'>\n",
      ".xtype = 'org.polarsys.capella.core.data.fa:FunctionalExchange'\n",
      "<FunctionalExchange 'Warm Fluid' (3ff89675-b660-48d0-92a2-3e3668c0d97a)>\n",
      ".allocating_component_exchange = ... # backreference to ComponentExchange - omitted: can be slow to compute\n",
      ".applied_property_value_groups = []\n",
      ".applied_property_values = []\n",
      ".categories = ... # backreference to ExchangeCategory - omitted: can be slow to compute\n",
      ".constraints = []\n",
      ".description = Markup('')\n",
      ".diagrams = []\n",
      ".exchange_items = []\n",
      ".filtering_criteria = []\n",
      ".involving_functional_chains = ... # backreference to FunctionalChain - omitted: can be slow to compute\n",
      ".layer = <LogicalArchitecture 'Logical Architecture' (8c299c50-222e-487c-91b8-929dc67eda68)>\n",
      ".name = 'Warm Fluid'\n",
      ".owner = None\n",
      ".parent = <LogicalFunction 'Root Logical Function' (b9715731-69e4-4280-9818-8b7bbda0a9ea)>\n",
      ".progress_status = 'NOT_SET'\n",
      ".property_value_groups = []\n",
      ".property_value_packages = []\n",
      ".property_values = []\n",
      ".pvmt = <Property Value Management for <FunctionalExchange 'Warm Fluid' (3ff89675-b660-48d0-92a2-3e3668c0d97a)>>\n",
      ".realized_functional_exchanges = []\n",
      ".realizing_functional_exchanges = ... # backreference to FunctionalExchange - omitted: can be slow to compute\n",
      ".requirements = []\n",
      ".sid = ''\n",
      ".source = <FunctionOutputPort 'FOP 2' (31111264-50fe-49d5-85d5-24297925b2da)>\n",
      ".summary = ''\n",
      ".target = <FunctionInputPort 'FIP 3' (c56749ae-ac7e-4f4c-b236-2fe8b7af162b)>\n",
      ".traces = []\n",
      ".uuid = '3ff89675-b660-48d0-92a2-3e3668c0d97a'\n",
      ".validation = <capellambse.extensions.validation._validate.ElementValidation object at 0x7f74c057c790>\n",
      ".visible_on_diagrams = [0] <Diagram '[LFCD] Warm Battery'>\n",
      "                       [1] <Diagram '[LAB] Thermal System'>\n",
      "                       [2] <Diagram '[LAB] Thermal System Hydaulic View (Cooling Battery)'>\n",
      "                       [3] <Diagram '[LAB] Thermal System Hydaulic View (Warming Battery)'>\n",
      ".xtype = 'org.polarsys.capella.core.data.fa:FunctionalExchange'\n",
      "<FunctionalExchange 'Heat' (c354be11-41d9-41a1-8607-deffa78537d9)>\n",
      ".allocating_component_exchange = ... # backreference to ComponentExchange - omitted: can be slow to compute\n",
      ".applied_property_value_groups = []\n",
      ".applied_property_values = []\n",
      ".categories = ... # backreference to ExchangeCategory - omitted: can be slow to compute\n",
      ".constraints = []\n",
      ".description = Markup('')\n",
      ".diagrams = []\n",
      ".exchange_items = []\n",
      ".filtering_criteria = []\n",
      ".involving_functional_chains = ... # backreference to FunctionalChain - omitted: can be slow to compute\n",
      ".layer = <LogicalArchitecture 'Logical Architecture' (8c299c50-222e-487c-91b8-929dc67eda68)>\n",
      ".name = 'Heat'\n",
      ".owner = <ComponentExchange 'Coolant' (bfb1f0af-92d1-4430-b0f4-00bfa7270d99)>\n",
      ".parent = <LogicalFunction 'Root Logical Function' (b9715731-69e4-4280-9818-8b7bbda0a9ea)>\n",
      ".progress_status = 'NOT_SET'\n",
      ".property_value_groups = []\n",
      ".property_value_packages = []\n",
      ".property_values = []\n",
      ".pvmt = <Property Value Management for <FunctionalExchange 'Heat' (c354be11-41d9-41a1-8607-deffa78537d9)>>\n",
      ".realized_functional_exchanges = []\n",
      ".realizing_functional_exchanges = ... # backreference to FunctionalExchange - omitted: can be slow to compute\n",
      ".requirements = []\n",
      ".sid = ''\n",
      ".source = <FunctionOutputPort 'FOP 1' (f11a6d91-52f0-48b4-a50f-7b76c0d47e66)>\n",
      ".summary = ''\n",
      ".target = <FunctionInputPort 'FIP 3' (d4940315-e693-4d3f-9d3f-e668248e76c3)>\n",
      ".traces = []\n",
      ".uuid = 'c354be11-41d9-41a1-8607-deffa78537d9'\n",
      ".validation = <capellambse.extensions.validation._validate.ElementValidation object at 0x7f74c0589a10>\n",
      ".visible_on_diagrams = [0] <Diagram '[LFCD] Warm Battery'>\n",
      "                       [1] <Diagram '[LFCD] Cool Battery'>\n",
      "                       [2] <Diagram '[LAB] Thermal System'>\n",
      "                       [3] <Diagram '[LAB] Thermal System Hydaulic View (Cooling Battery)'>\n",
      "                       [4] <Diagram '[LAB] Thermal System Hydaulic View (Warming Battery)'>\n",
      ".xtype = 'org.polarsys.capella.core.data.fa:FunctionalExchange'\n",
      "<FunctionalExchange 'Heat' (cbc31c22-53bc-424a-abdc-dcac050e870b)>\n",
      ".allocating_component_exchange = ... # backreference to ComponentExchange - omitted: can be slow to compute\n",
      ".applied_property_value_groups = []\n",
      ".applied_property_values = []\n",
      ".categories = ... # backreference to ExchangeCategory - omitted: can be slow to compute\n",
      ".constraints = []\n",
      ".description = Markup('')\n",
      ".diagrams = []\n",
      ".exchange_items = []\n",
      ".filtering_criteria = []\n",
      ".involving_functional_chains = ... # backreference to FunctionalChain - omitted: can be slow to compute\n",
      ".layer = <LogicalArchitecture 'Logical Architecture' (8c299c50-222e-487c-91b8-929dc67eda68)>\n",
      ".name = 'Heat'\n",
      ".owner = <ComponentExchange 'Coolant' (6a6fdd33-5435-4104-83ae-2265c9522bf4)>\n",
      ".parent = <LogicalFunction 'Root Logical Function' (b9715731-69e4-4280-9818-8b7bbda0a9ea)>\n",
      ".progress_status = 'NOT_SET'\n",
      ".property_value_groups = []\n",
      ".property_value_packages = []\n",
      ".property_values = []\n",
      ".pvmt = <Property Value Management for <FunctionalExchange 'Heat' (cbc31c22-53bc-424a-abdc-dcac050e870b)>>\n",
      ".realized_functional_exchanges = []\n",
      ".realizing_functional_exchanges = ... # backreference to FunctionalExchange - omitted: can be slow to compute\n",
      ".requirements = []\n",
      ".sid = ''\n",
      ".source = <FunctionOutputPort 'FOP 1' (38ae2e37-48fa-469c-9a38-51a0c10dab20)>\n",
      ".summary = ''\n",
      ".target = <FunctionInputPort 'FIP 2' (e744731c-da3c-4a6f-856d-fe08074f844a)>\n",
      ".traces = []\n",
      ".uuid = 'cbc31c22-53bc-424a-abdc-dcac050e870b'\n",
      ".validation = <capellambse.extensions.validation._validate.ElementValidation object at 0x7f74c05c47d0>\n",
      ".visible_on_diagrams = [0] <Diagram '[LFCD] Warm Battery'>\n",
      "                       [1] <Diagram '[LFCD] Cool Battery'>\n",
      "                       [2] <Diagram '[LAB] Thermal System'>\n",
      "                       [3] <Diagram '[LAB] Thermal System Hydaulic View (Cooling Battery)'>\n",
      "                       [4] <Diagram '[LAB] Thermal System Hydaulic View (Warming Battery)'>\n",
      ".xtype = 'org.polarsys.capella.core.data.fa:FunctionalExchange'\n",
      "<FunctionalExchange 'Hat Fluid' (fab81dd4-f440-42b4-887b-8447c90ad3f1)>\n",
      ".allocating_component_exchange = ... # backreference to ComponentExchange - omitted: can be slow to compute\n",
      ".applied_property_value_groups = []\n",
      ".applied_property_values = []\n",
      ".categories = ... # backreference to ExchangeCategory - omitted: can be slow to compute\n",
      ".constraints = []\n",
      ".description = Markup('')\n",
      ".diagrams = []\n",
      ".exchange_items = []\n",
      ".filtering_criteria = []\n",
      ".involving_functional_chains = ... # backreference to FunctionalChain - omitted: can be slow to compute\n",
      ".layer = <LogicalArchitecture 'Logical Architecture' (8c299c50-222e-487c-91b8-929dc67eda68)>\n",
      ".name = 'Hat Fluid'\n",
      ".owner = <ComponentExchange 'Coolant' (9000a120-a127-4653-bd6c-5e0808b88924)>\n",
      ".parent = <LogicalFunction 'Root Logical Function' (b9715731-69e4-4280-9818-8b7bbda0a9ea)>\n",
      ".progress_status = 'NOT_SET'\n",
      ".property_value_groups = []\n",
      ".property_value_packages = []\n",
      ".property_values = []\n",
      ".pvmt = <Property Value Management for <FunctionalExchange 'Hat Fluid' (fab81dd4-f440-42b4-887b-8447c90ad3f1)>>\n",
      ".realized_functional_exchanges = []\n",
      ".realizing_functional_exchanges = ... # backreference to FunctionalExchange - omitted: can be slow to compute\n",
      ".requirements = []\n",
      ".sid = ''\n",
      ".source = <FunctionOutputPort 'FOP 1' (641c6d44-df55-4bd4-b585-273d299a3082)>\n",
      ".summary = ''\n",
      ".target = <FunctionInputPort 'FIP 1' (eac35814-6dd5-44d3-a06c-ac183e19e1ea)>\n",
      ".traces = []\n",
      ".uuid = 'fab81dd4-f440-42b4-887b-8447c90ad3f1'\n",
      ".validation = <capellambse.extensions.validation._validate.ElementValidation object at 0x7f74c059a110>\n",
      ".visible_on_diagrams = [0] <Diagram '[LFCD] Cool Battery'>\n",
      "                       [1] <Diagram '[LAB] Thermal System'>\n",
      "                       [2] <Diagram '[LAB] Thermal System Hydaulic View (Cooling Battery)'>\n",
      "                       [3] <Diagram '[LAB] Thermal System Hydaulic View (Warming Battery)'>\n",
      ".xtype = 'org.polarsys.capella.core.data.fa:FunctionalExchange'\n",
      "<FunctionalExchange 'Cool Air' (f1d8c4e0-e71c-457f-b3a1-32467b316cf2)>\n",
      ".allocating_component_exchange = ... # backreference to ComponentExchange - omitted: can be slow to compute\n",
      ".applied_property_value_groups = []\n",
      ".applied_property_values = []\n",
      ".categories = ... # backreference to ExchangeCategory - omitted: can be slow to compute\n",
      ".constraints = []\n",
      ".description = Markup('')\n",
      ".diagrams = []\n",
      ".exchange_items = []\n",
      ".filtering_criteria = []\n",
      ".involving_functional_chains = ... # backreference to FunctionalChain - omitted: can be slow to compute\n",
      ".layer = <LogicalArchitecture 'Logical Architecture' (8c299c50-222e-487c-91b8-929dc67eda68)>\n",
      ".name = 'Cool Air'\n",
      ".owner = <ComponentExchange 'Ambient Air' (11d7817e-e739-4cb3-bfc9-65cf4b7a9c39)>\n",
      ".parent = <LogicalFunction 'Root Logical Function' (b9715731-69e4-4280-9818-8b7bbda0a9ea)>\n",
      ".progress_status = 'NOT_SET'\n",
      ".property_value_groups = []\n",
      ".property_value_packages = []\n",
      ".property_values = []\n",
      ".pvmt = <Property Value Management for <FunctionalExchange 'Cool Air' (f1d8c4e0-e71c-457f-b3a1-32467b316cf2)>>\n",
      ".realized_functional_exchanges = []\n",
      ".realizing_functional_exchanges = ... # backreference to FunctionalExchange - omitted: can be slow to compute\n",
      ".requirements = []\n",
      ".sid = ''\n",
      ".source = <FunctionOutputPort 'FOP 1' (25437aad-4833-48d0-97a2-58209cbb13cf)>\n",
      ".summary = ''\n",
      ".target = <FunctionInputPort 'FIP 2' (7053fd0a-e922-4353-8be5-811810aa9ca4)>\n",
      ".traces = []\n",
      ".uuid = 'f1d8c4e0-e71c-457f-b3a1-32467b316cf2'\n",
      ".validation = <capellambse.extensions.validation._validate.ElementValidation object at 0x7f74c05b1010>\n",
      ".visible_on_diagrams = [0] <Diagram '[LAB] Thermal System'>\n",
      "                       [1] <Diagram '[LAB] Thermal System Hydaulic View (Cooling Battery)'>\n",
      "                       [2] <Diagram '[LAB] Thermal System Hydaulic View (Warming Battery)'>\n",
      ".xtype = 'org.polarsys.capella.core.data.fa:FunctionalExchange'\n",
      "<FunctionalExchange 'Hot Air' (aa70305e-82db-4314-92b6-3a80e6e08771)>\n",
      ".allocating_component_exchange = ... # backreference to ComponentExchange - omitted: can be slow to compute\n",
      ".applied_property_value_groups = []\n",
      ".applied_property_values = []\n",
      ".categories = ... # backreference to ExchangeCategory - omitted: can be slow to compute\n",
      ".constraints = []\n",
      ".description = Markup('')\n",
      ".diagrams = []\n",
      ".exchange_items = []\n",
      ".filtering_criteria = []\n",
      ".involving_functional_chains = ... # backreference to FunctionalChain - omitted: can be slow to compute\n",
      ".layer = <LogicalArchitecture 'Logical Architecture' (8c299c50-222e-487c-91b8-929dc67eda68)>\n",
      ".name = 'Hot Air'\n",
      ".owner = <ComponentExchange 'Ambient Air' (11d7817e-e739-4cb3-bfc9-65cf4b7a9c39)>\n",
      ".parent = <LogicalFunction 'Root Logical Function' (b9715731-69e4-4280-9818-8b7bbda0a9ea)>\n",
      ".progress_status = 'NOT_SET'\n",
      ".property_value_groups = []\n",
      ".property_value_packages = []\n",
      ".property_values = []\n",
      ".pvmt = <Property Value Management for <FunctionalExchange 'Hot Air' (aa70305e-82db-4314-92b6-3a80e6e08771)>>\n",
      ".realized_functional_exchanges = []\n",
      ".realizing_functional_exchanges = ... # backreference to FunctionalExchange - omitted: can be slow to compute\n",
      ".requirements = []\n",
      ".sid = ''\n",
      ".source = <FunctionOutputPort 'FOP 2' (a311b01e-9973-470d-9bbd-2a40766c5b19)>\n",
      ".summary = ''\n",
      ".target = <FunctionInputPort 'FIP 1' (294bb5f7-cb44-4344-b1f3-9a58f97fad37)>\n",
      ".traces = []\n",
      ".uuid = 'aa70305e-82db-4314-92b6-3a80e6e08771'\n",
      ".validation = <capellambse.extensions.validation._validate.ElementValidation object at 0x7f74c058e9d0>\n",
      ".visible_on_diagrams = [0] <Diagram '[LFCD] Cool Battery'>\n",
      "                       [1] <Diagram '[LAB] Thermal System'>\n",
      "                       [2] <Diagram '[LAB] Thermal System Hydaulic View (Cooling Battery)'>\n",
      "                       [3] <Diagram '[LAB] Thermal System Hydaulic View (Warming Battery)'>\n",
      ".xtype = 'org.polarsys.capella.core.data.fa:FunctionalExchange'\n"
     ]
    }
   ],
   "source": [
    "#Workflow\n",
    "import capellambse_yaml_manager\n",
    "yaml_handler = capellambse_yaml_manager.CapellaYAMLHandler()\n",
    "\n",
    "   \n",
    "#Generate YAML for the logical component and append to the file\n",
    "for object in  selected_objects :  \n",
    "    yaml_handler.generate_yaml( model.search(object[\"type\"]).by_uuid(object[\"uuid\"]))\n",
    "\n",
    "yaml_handler.generate_traceability_related_objects(model,Traceability_store)\n",
    "\n",
    "#yaml_handler.display()\n",
    "yaml_handler.generate_yaml_referenced_objects()\n",
    "#yaml_handler.display()\n",
    "\n",
    "yaml_handler.write_output_file()\n"
   ]
  },
  {
   "cell_type": "markdown",
   "id": "1113cb97-36e1-46b4-aec7-9713aea09a64",
   "metadata": {},
   "source": [
    "## 🖼️ Generate Contextual Diagram\n",
    "\n",
    "### Purpose\n",
    "This cell generates a **contextual diagram** for the selected object. The diagram visually represents the object's relationships and interactions, providing a clear and comprehensive view of its context within the model.\n",
    "\n",
    "### Supported Object Types\n",
    "This functionality works the following ARCADIA elements, including:\n",
    "- **Functions**\n",
    "- **Activities**\n",
    "- **Components**\n",
    "- **Entities**\n",
    "- **Exchanges and Interactions**\n",
    "- **Physical Links**\n",
    "\n",
    "### What This Cell Does\n",
    "- Identifies the selected object.\n",
    "- Extracts relevant relationships, exchanges, and dependencies.\n",
    "- Creates a contextual diagram based on the object's type and its connections.\n",
    "\n",
    "### Instructions\n",
    "1. Ensure the object is correctly selected in the previous step.\n",
    "2. Run this cell to generate the contextual diagram.\n",
    "3. Review the output to verify accuracy and completeness.\n",
    "\n",
    "### Key Benefits\n",
    "- **Clarity:** Visualizes how the selected object interacts with other model elements.\n",
    "- **Versatility:** Works seamlessly across ARCADIA functions, activities, components, and entities.\n",
    "- **Actionable Insight:** Helps identify key dependencies and relationships for analysis.\n",
    "\n",
    "### Notes\n",
    "- The diagram will be displayed below upon completion.\n",
    "- If the selected object changes, re-run this cell to update the contextual\n"
   ]
  },
  {
   "cell_type": "code",
   "execution_count": 5,
   "id": "6679d117-2c29-4dc1-9eac-b14e602b1cee",
   "metadata": {
    "jupyter": {
     "source_hidden": true
    }
   },
   "outputs": [
    {
     "data": {
      "image/png": "[encoded data removed]",
      "image/svg+xml": [
       "<svg baseProfile=\"full\" class=\"LogicalArchitectureBlank\" font-family=\"'Open Sans','Segoe UI',Arial,sans-serif\" font-size=\"10px\" height=\"59\" shape-rendering=\"geometricPrecision\" version=\"1.1\" viewBox=\"2 2 93 59\" width=\"93\" xmlns=\"http://www.w3.org/2000/svg\" xmlns:ev=\"http://www.w3.org/2001/xml-events\" xmlns:xlink=\"http://www.w3.org/1999/xlink\"><defs><symbol id=\"LogicalComponentSymbol\" stroke=\"#000\" stroke-width=\"2\" viewBox=\"0 0 79 79\"><path d=\"M18 237h46v43H18z\" fill=\"#dbe6f4\" transform=\"translate(0 -218)\" /><path d=\"M12 247h11v8H12z\" fill=\"#dbe6f4\" transform=\"translate(0 -218)\" /><path d=\"M12 261h11v8H12z\" fill=\"#dbe6f4\" transform=\"translate(0 -218)\" /><g transform=\"scale(0.90705135,1.1024734)\"><path d=\"m 37.427456,20.821353 h 4.221475 V 50.90971 H 37.427456 Z M 39.538194,46.89517 H 56.75519 v 4.01454 H 39.538194 Z\" fill=\"#000\" stroke-width=\"0.1\" /></g></symbol><linearGradient id=\"CustomGradient_C3E6FF_96B1DA\" x1=\"0\" x2=\"0\" y1=\"0\" y2=\"1\"><stop offset=\"0.0\" stop-color=\"#C3E6FF\" stop-opacity=\"1\" /><stop offset=\"1.0\" stop-color=\"#96B1DA\" stop-opacity=\"1\" /></linearGradient></defs><rect fill=\"#fff\" height=\"59\" stroke=\"none\" width=\"93\" x=\"2\" y=\"2\" /><g class=\"Box LogicalComponent context-a2da5b5b-7409-40b6-bf87-5ff510c4a96d\" id=\"a2da5b5b-7409-40b6-bf87-5ff510c4a96d\"><rect class=\"LogicalComponent\" fill=\"url(&quot;#CustomGradient_C3E6FF_96B1DA&quot;)\" height=\"39\" stroke=\"#4A4A97\" stroke-width=\"4\" width=\"73\" x=\"12.5\" y=\"12.5\" /><text class=\"LogicalComponent\" dominant-baseline=\"middle\" fill=\"#4A4A97\" text-anchor=\"middle\" x=\"15\" y=\"25\"><tspan x=\"59.0\" xml:space=\"preserve\" y=\"31.714285714285715\">Vehicle</tspan></text><use height=\"20\" width=\"20\" x=\"23.0\" xlink:href=\"#LogicalComponentSymbol\" y=\"21.714285714285715\" /></g></svg>"
      ],
      "text/plain": [
       "<Diagram 'Context of Vehicle'>"
      ]
     },
     "metadata": {},
     "output_type": "display_data"
    }
   ],
   "source": [
    "for object in  selected_objects : \n",
    "    obj = model.search(object[\"type\"]).by_uuid(object[\"uuid\"])\n",
    "    capellambse_helper.display_context_diagram(obj)"
   ]
  },
  {
   "cell_type": "markdown",
   "id": "a1ed6cc0-6c32-4f80-8a39-1dccfaca5eb5",
   "metadata": {},
   "source": [
    "## 💬 Predefined Prompts for Analysis\n",
    "\n",
    "### Purpose\n",
    "This cell contains predefined prompts for analyzing different types of ARCADIA elements, including components, functions, operational processes, and a default prompt. You can use these as-is or tailor them to suit your specific needs.\n",
    "\n",
    "\n",
    "### Instructions\n",
    "1. The appropriate prompt will be used for your analysis needs.\n",
    "2. Modify the prompt to include additional details or requirements, if necessary.\n",
    "\n",
    "### Notes\n",
    "- Predefined prompts are designed to guide analysis and ensure consistency.\n",
    "- Tailoring the prompts allows you to focus on specific aspects of the model relevant to your use case.\n",
    "\n",
    "> 💡 **Tip:** Save your tailored prompts for reuse in similar analyses or workflows.\n"
   ]
  },
  {
   "cell_type": "code",
   "execution_count": 6,
   "id": "24590371-907b-4e64-898f-99c5e9499460",
   "metadata": {},
   "outputs": [],
   "source": [
    "component_prompt = \"\"\"\n",
    "Please analyze the yaml file and display the result as .html and specifically provide insights on:\n",
    "1. The purpose of the component.\n",
    "2. Any components that make it up.\n",
    "3. A list of allocated functions and their potential roles.\n",
    "4. How the ports relate to the functions.\n",
    "5. Any traceabilty artifacts linked to the component and the artifacts url.\n",
    "6. Suggestions for improving the component description.\n",
    "7. Create a tabular table with columns for the component and its ports and the port interfaces, the interface souce and the interface target.\n",
    "8. List any property values and the related model element.\n",
    "9. A summary of any related state machines.\n",
    "\"\"\"\n",
    "function_prompt = \"\"\"\n",
    "Please analyze the yaml file and display the result as .html specifically provide insights on:\n",
    "1. The purpose of the function.\n",
    "2. Its owning component.\n",
    "4. Any ports relate to the functions.\n",
    "5. Any traceabilty artifacts linked to the component and the artifacts url.\n",
    "6. Suggestions for improving the function description.\n",
    "7. Create a tabular table with columns for the owning component, this function, its ports and the functional exchanges.\n",
    "\"\"\"\n",
    "activity_prompt = \"\"\"\n",
    "Please analyze the yaml file and display the result as .html specifically provide insights on:\n",
    "1. The purpose of the activity.\n",
    "2. Its actor or entiry.\n",
    "4. Any traceabilty artifacts linked to the component and the artifacts url.\n",
    "7. Suggestions for improving the activity description.\n",
    "7. Create a tabular table with columns for the owning entity or actor, this activity, its exchanges.\n",
    "\"\"\"\n",
    "functional_chain_prompt = \"\"\"\n",
    "Please analyze the YAML file and display the result as .html specifically provide insights on:\n",
    "1. The purpose of the functional chain.\n",
    "2. A table with first column being the owning component, the second being a function, last column being involved functional exchange, organized by involved functional exchanges.\n",
    "3. Any traceabilty artifacts linked to functional chain, functions, owning component and the traceability artifacts url.\n",
    "4. List any property values and the related model element.\n",
    "Please format the analysis in .html suitable for Juypter Notbook display operation.\n",
    "\"\"\"\n",
    "operational_process_prompt = \"\"\"\n",
    "Please analyze the YAML file and display the result as .html specifically provide insights on:\n",
    "1. The purpose of the operation process.\n",
    "2. A table with first column being the owning component, the second being a activities, last column being involved activity exchange, organized by involved activity exchanges.\n",
    "3. Any traceabilty artifacts linked to the operational process chain, activities, owning component and the traceability artifacts url.\n",
    "4. List any property values and the related model element.\n",
    "Please format the analysis in .html suitable for Juypter Notbook display operation.\n",
    "\"\"\"\n",
    "default_prompt = \"\"\"\n",
    "Please analyze the YAML file and display the result as .html specifically provide insights on:\n",
    "1. The purpose of the primary component listed first in the yaml file.=.\n",
    "2. List any property values and the related model element.\n",
    "Please format the analysis in .html suitable for Juypter Notbook display operation.\n",
    "\"\"\"\n",
    "\n"
   ]
  },
  {
   "cell_type": "markdown",
   "id": "4a3e82f3-a07b-404e-a230-7ebcf690e3e4",
   "metadata": {},
   "source": [
    "## ⚙️ Execute Default Prompts\n",
    "\n",
    "### Purpose\n",
    "This cell executes the **default prompts** defined for analyzing the model. These prompts are designed to provide general insights and overviews when specific object types or contexts are not explicitly defined.\n",
    "\n",
    "### What This Cell Does\n",
    "- Reads the structured input file (e.g., `capella_model.yaml`).\n",
    "- Uses the default prompts to query key details about the selected object(s).\n",
    "- Outputs the results directly in the notebook.\n",
    "\n",
    "### 🛠️ Instructions\n",
    "1. Ensure the `capella_model.yaml` file is generated and up-to-date.\n",
    "2. Run this cell to execute the default prompts.\n",
    "3. Review the output to verify the accuracy and relevance of the analysis.\n",
    "\n",
    "### 📝 Notes\n",
    "- The default prompts are **general-purpose** and may not capture all details specific to certain object types.\n",
    "- For more tailored analysis, consider using prompts designed for specific ARCADIA elements.\n",
    "\n",
    "> 💡 **Tip:** Use the default prompts as a starting point, then refine or modify them based on your analysis needs.\n"
   ]
  },
  {
   "cell_type": "code",
   "execution_count": 7,
   "id": "8cf53953-bfae-4677-9f45-906e72aa93e1",
   "metadata": {
    "jupyter": {
     "source_hidden": true
    }
   },
   "outputs": [
    {
     "data": {
      "text/markdown": [
       "# The architecture is analyzed by ChatGPT with following prompt.\n",
       " \n",
       "Please analyze the yaml file and display the result as .html and specifically provide insights on:\n",
       "1. The purpose of the component.\n",
       "2. Any components that make it up.\n",
       "3. A list of allocated functions and their potential roles.\n",
       "4. How the ports relate to the functions.\n",
       "5. Any traceabilty artifacts linked to the component and the artifacts url.\n",
       "6. Suggestions for improving the component description.\n",
       "7. Create a tabular table with columns for the component and its ports and the port interfaces, the interface souce and the interface target.\n",
       "8. List any property values and the related model element.\n",
       "9. A summary of any related state machines.\n",
       "\n"
      ],
      "text/plain": [
       "<IPython.core.display.Markdown object>"
      ]
     },
     "metadata": {},
     "output_type": "display_data"
    },
    {
     "name": "stdout",
     "output_type": "stream",
     "text": [
      "OpenAI API Key retrieved successfully.\n"
     ]
    },
    {
     "data": {
      "text/markdown": [
       "\n",
       "\n",
       "**ChatGPT Analysis:**\n"
      ],
      "text/plain": [
       "<IPython.core.display.Markdown object>"
      ]
     },
     "metadata": {},
     "output_type": "display_data"
    },
    {
     "data": {
      "text/html": [
       "```html\n",
       "<!DOCTYPE html>\n",
       "\n",
       "<html>\n",
       "<head>\n",
       "<title>YAML File Analysis</title>\n",
       "\n",
       "</head>\n",
       "<body>\n",
       "<h1>YAML File Analysis</h1>\n",
       "<h2>1. The purpose of Vehicle Component</h2>\n",
       "<p>The Vehicle component is described as a LogicalComponent, which suggests its role in representing a higher-level abstraction of the vehicle system. It doesn't have a detailed description in the YAML file, which could be improved for clarity.</p>\n",
       "<h2>2. Sub-components of the Vehicle</h2>\n",
       "<ul>\n",
       "<li>Electric Motor</li>\n",
       "<li>Pump</li>\n",
       "<li>PTC Heater</li>\n",
       "<li>Battery Pack</li>\n",
       "<li>Hydaulic Cooling</li>\n",
       "<li>Radiator</li>\n",
       "<li>Chassis</li>\n",
       "</ul>\n",
       "<h2>3. Allocated Functions and Their Potential Roles</h2>\n",
       "<ul>\n",
       "<li>Vehicle: No functions directly allocated</li>\n",
       "<li>Electric Motor: Provide Mechanical Rotation</li>\n",
       "<li>Pump: Move Fluid</li>\n",
       "<li>PTC Heater: Produce Heat</li>\n",
       "<li>Battery Pack: Generate and Absorb Heat, Provide Power</li>\n",
       "<li>Hydaulic Cooling: Transfer Heat</li>\n",
       "<li>Radiator: Transfer Heat</li>\n",
       "</ul>\n",
       "<h2>4. Ports and Their Relation to Functions</h2>\n",
       "<ul>\n",
       "<li>Electric Motor ports (CP 2, CP 5, CP 1) facilitate mechanical and electrical exchanges relevant to its function.</li>\n",
       "<li>Pump ports (CP 2, CP 6) manage mechanical and coolant exchanges necessary for fluid movement.</li>\n",
       "<li>Battery Pack ports (CP 1, CP 5, CP 4) handle electrical, mechanical, and coolant exchanges for power provision and heating/cooling roles.</li>\n",
       "</ul>\n",
       "<h2>5. Traceability Artifacts Linked to Components</h2>\n",
       "<ul>\n",
       "<li>Vehicle: Satisfies Component with Primary UUID a2da5b5b-7409-40b6-bf87-5ff510c4a96d, linked to <a href=\"https://polarion.diswx.com/polarion/oslc/services/projects/drivepilot/workitems/DP-1632\">Polarion Workitem Requirement DP-1632</a></li>\n",
       "</ul>\n",
       "<h2>6. Suggestions for Improving Component Descriptions</h2>\n",
       "<p>Many components lack detailed descriptions. It's recommended to provide specific insights on their roles, interactions, and relevance within the system to enrich understanding and documentation.</p>\n",
       "<h2>7. Component, Ports, and Interfaces</h2>\n",
       "<table>\n",
       "<tr>\n",
       "<th>Component</th>\n",
       "<th>Port Name</th>\n",
       "<th>Interface</th>\n",
       "<th>Interface Source</th>\n",
       "<th>Interface Target</th>\n",
       "</tr>\n",
       "<!-- Vehicle Component Data -->\n",
       "<tr>\n",
       "<td rowspan=\"2\">Electric Motor</td>\n",
       "<td>CP 2</td>\n",
       "<td>Mech</td>\n",
       "<td>Chassis</td>\n",
       "<td>Electric Motor</td>\n",
       "</tr>\n",
       "<tr>\n",
       "<td>CP 1</td>\n",
       "<td>Electrical</td>\n",
       "<td>Battery Pack</td>\n",
       "<td>Electric Motor</td>\n",
       "</tr>\n",
       "<!-- Pump Component Data -->\n",
       "<tr>\n",
       "<td>Pump</td>\n",
       "<td>CP 2</td>\n",
       "<td>Mech</td>\n",
       "<td>Electric Motor</td>\n",
       "<td>Pump</td>\n",
       "</tr>\n",
       "<!-- Radiator Component Data -->\n",
       "<tr>\n",
       "<td>Radiator</td>\n",
       "<td>CP 2</td>\n",
       "<td>Coolant</td>\n",
       "<td>Hydaulic Cooling</td>\n",
       "<td>Radiator</td>\n",
       "</tr>\n",
       "</table>\n",
       "<h2>8. Property Values and Related Model Elements</h2>\n",
       "<ul>\n",
       "<li>Vehicle Mass: Linked to Vehicle Properties</li>\n",
       "<li>NPI Levels for multiple components indicating the design maturity or version level.</li>\n",
       "<li>Wall Thickness: 2.0 mm</li>\n",
       "</ul>\n",
       "<h2>9. Related State Machines</h2>\n",
       "<p>No specific state machines are detailed in the YAML file.</p>\n",
       "</body>\n",
       "</html>\n",
       "```"
      ],
      "text/plain": [
       "<IPython.core.display.HTML object>"
      ]
     },
     "metadata": {},
     "output_type": "display_data"
    }
   ],
   "source": [
    "import os\n",
    "from openai import OpenAI\n",
    "from IPython.core.display import HTML\n",
    "from IPython.display import display, clear_output, Markdown\n",
    "\n",
    "if object[\"type\"] ==  \"LogicalComponent\" or object[\"type\"] ==  \"SystemComponent\" or object[\"type\"] ==  \"PhysicalComponent\"  :\n",
    "    prompt = component_prompt\n",
    "elif object[\"type\"] ==  \"FunctionalChain\" :  \n",
    "    prompt = functional_chain_prompt\n",
    "elif object[\"type\"] ==  \"OperationalProcess\":  \n",
    "    prompt = functional_chain_prompt\n",
    "elif object[\"type\"] ==  \"SystemFuntion\" or object[\"type\"] ==  \"LogicalFunction\" or object[\"type\"] ==  \"PhysicalFunction\":\n",
    "    prompt = function_prompt\n",
    "elif object[\"type\"] ==  \"OperationalActivity\" : \n",
    "    prompt = activity_prompt\n",
    "else :\n",
    "    prompt = default_prompt    \n",
    "# Display Prompt\n",
    "display(Markdown(f\"# The architecture is analyzed by ChatGPT with following prompt.\\n {prompt}\\n\"))\n",
    "\n",
    "# Step 1: Get YAML content\n",
    "yaml_content = yaml_handler.get_yaml_content()\n",
    "\n",
    "# Step 2: Invoke ChatGPT for analysis\n",
    "analyzer = Open_AI_RAG_manager.ChatGPTAnalyzer(yaml_content)\n",
    "analyzer.initial_prompt(prompt)\n",
    "chatgpt_response = analyzer.get_response()\n",
    "\n",
    "# Step 3: Display the response in the notebook\n",
    "#print(\"ChatGPT Analysis:\\n\")\n",
    "display(Markdown(f\"\\n\\n**ChatGPT Analysis:**\\n\"))\n",
    "#print(chatgpt_response)\n",
    "display(HTML(chatgpt_response))"
   ]
  },
  {
   "cell_type": "markdown",
   "id": "0ab07e0f-6cdb-4b16-9c5b-0acd3e7944cd",
   "metadata": {},
   "source": [
    "## ⚙️ Execute Followup Prompts\n",
    "\n",
    "### Purpose\n",
    "This cell executes the **follow up prompts** defined for analyzing the model. These prompts can be added by the note book user in addition to the default prompts\n",
    "\n",
    "### What This Cell Does\n",
    "- Use the structured input file (e.g., `capella_model.yaml`).\n",
    "- Excutes the prompt defined in the cell.\n",
    "- Outputs the results directly in the notebook.\n",
    "\n",
    "### 🛠️ Instructions\n",
    "1. Ensure the `capella_model.yaml` file is generated and up-to-date.\n",
    "2. Run this cell to execute the default prompts.\n",
    "3. Review the output to verify the accuracy and relevance of the analysis.\n",
    "\n",
    "> 💡 **Tip:** Modify the promt to your needs."
   ]
  },
  {
   "cell_type": "code",
   "execution_count": 8,
   "id": "fab94bcf-5ea3-4d7d-89e8-508dcd603d71",
   "metadata": {
    "jupyter": {
     "source_hidden": true
    }
   },
   "outputs": [
    {
     "data": {
      "text/markdown": [
       "\n",
       "\n",
       "**ChatGPT Analysis:**\n"
      ],
      "text/plain": [
       "<IPython.core.display.Markdown object>"
      ]
     },
     "metadata": {},
     "output_type": "display_data"
    },
    {
     "data": {
      "text/html": [
       "```html\n",
       "<!DOCTYPE html>\n",
       "\n",
       "<html>\n",
       "<head>\n",
       "<title>Component Functions</title>\n",
       "\n",
       "</head>\n",
       "<body>\n",
       "<h1>Functions of Components</h1>\n",
       "<table>\n",
       "<tr>\n",
       "<th>Component Name</th>\n",
       "<th>Function Name</th>\n",
       "<th>Description</th>\n",
       "</tr>\n",
       "<tr>\n",
       "<td>Electric Motor</td>\n",
       "<td>Provide Mechanical Rotation</td>\n",
       "<td>Enables the conversion of electrical energy into mechanical rotation.</td>\n",
       "</tr>\n",
       "<tr>\n",
       "<td>Pump</td>\n",
       "<td>Move Fluid</td>\n",
       "<td>Responsible for the movement of fluids within the system.</td>\n",
       "</tr>\n",
       "<tr>\n",
       "<td>PTC Heater</td>\n",
       "<td>Produce Heat</td>\n",
       "<td>Generates heat for thermal management functions.</td>\n",
       "</tr>\n",
       "<tr>\n",
       "<td>Battery Pack</td>\n",
       "<td>Generate and Absorb Heat</td>\n",
       "<td>Manages thermal energy by generating or absorbing heat.</td>\n",
       "</tr>\n",
       "<tr>\n",
       "<td>Battery Pack</td>\n",
       "<td>Provide Power</td>\n",
       "<td>Supplies electrical power to the vehicle's components.</td>\n",
       "</tr>\n",
       "<tr>\n",
       "<td>Hydaulic Cooling</td>\n",
       "<td>Transfer Heat</td>\n",
       "<td>Transfers thermal energy, usually from one medium to another.</td>\n",
       "</tr>\n",
       "<tr>\n",
       "<td>Radiator</td>\n",
       "<td>Transfer Heat</td>\n",
       "<td>Facilitates heat dissipation from the system to the environment.</td>\n",
       "</tr>\n",
       "</table>\n",
       "</body>\n",
       "</html>\n",
       "```"
      ],
      "text/plain": [
       "<IPython.core.display.HTML object>"
      ]
     },
     "metadata": {},
     "output_type": "display_data"
    }
   ],
   "source": [
    "analyzer.follow_up_prompt(\"List the functions of the componen\")\n",
    "chatgpt_response = analyzer.get_response()\n",
    "\n",
    "# Step 3: Display the response in the notebook\n",
    "#print(\"ChatGPT Analysis:\\n\")\n",
    "display(Markdown(f\"\\n\\n**ChatGPT Analysis:**\\n\"))\n",
    "#print(chatgpt_response)\n",
    "display(HTML(chatgpt_response))"
   ]
  },
  {
   "cell_type": "markdown",
   "id": "614ada9b-367c-4929-badf-e27c7170b825",
   "metadata": {},
   "source": [
    "## 💬 Launch Interactive Chat on Structured Input\n",
    "\n",
    "### Purpose\n",
    "This cell launches an interactive chat session based on the structured input file, leveraging ARCADIA and Polarion terminology to ensure the analysis remains consistent with the modeling context.\n",
    "\n",
    "### Key Features\n",
    "- Uses the generated structured input file (e.g., `capella_model.yaml`) to guide the conversation.\n",
    "- Supports ARCADIA terms such as **functions**, **components**, **activities**, and **exchanges**.\n",
    "- Incorporates Polarion terms like **workitem**, **requirement**, and **traceability** for seamless integration with requirements management workflows.\n",
    "\n",
    "### How It Works\n",
    "1. The structured input file provides context for the chat session.\n",
    "2. You can interactively query details about the model elements, relationships, and dependencies.\n",
    "3. Responses are tailored using ARCADIA and Polarion terminology.\n",
    "\n",
    "### Example Prompts\n",
    "- **For ARCADIA:**\n",
    "  ```plaintext\n",
    "  What are the dependencies and exchanges for the selected function in the Logical Architecture phase?\n",
    "\n",
    "- **For Polarion:**\n",
    "  ```plaintext\n",
    "  Provide the traceability matrix for the workitem linked to this component.\n",
    "  ```\n",
    "### 🛠️ Instructions\n",
    "1. Ensure the `capella_model.yaml` file has been generated and is up-to-date.\n",
    "2. Run this cell to start the interactive chat session.\n",
    "3. Enter your queries using **ARCADIA** or **Polarion** terms for accurate and relevant responses.\n",
    "\n",
    "### 📝 Notes\n",
    "- The interactive chat dynamically adapts to the content in the structured input file.\n",
    "- Use precise and contextual queries to ensure the best results and insights.\n",
    "\n",
    "> 💡 **Tip:** If you're unfamiliar with ARCADIA or Polarion terminology, consult the respective documentation or glossary for guidance.\n",
    "\n"
   ]
  },
  {
   "cell_type": "code",
   "execution_count": 9,
   "id": "ac1d370a-fcf4-4084-9064-f5e11a03a641",
   "metadata": {
    "scrolled": true
   },
   "outputs": [
    {
     "name": "stdout",
     "output_type": "stream",
     "text": [
      "Starting interactive chat...\n"
     ]
    },
    {
     "name": "stdin",
     "output_type": "stream",
     "text": [
      "Enter your prompt (or type 'exit' to quit):  Decscribe the purpose of these components based on chains of functions referenced in the model.\n"
     ]
    },
    {
     "data": {
      "text/markdown": [
       "**Your Prompt:**\n",
       "\n",
       "Decscribe the purpose of these components based on chains of functions referenced in the model.\n"
      ],
      "text/plain": [
       "<IPython.core.display.Markdown object>"
      ]
     },
     "metadata": {},
     "output_type": "display_data"
    },
    {
     "data": {
      "text/html": [
       "```html\n",
       "<!DOCTYPE html>\n",
       "\n",
       "<html>\n",
       "<head>\n",
       "<title>Component Purposes Based on Function Chains</title>\n",
       "\n",
       "</head>\n",
       "<body>\n",
       "<h1>Purpose of Components Based on Function Chains</h1>\n",
       "<h2>1. Electric Motor</h2>\n",
       "<p>The Electric Motor's main role is to convert electrical power from the Battery Pack into mechanical rotation. This mechanical rotation is crucial as it is further utilized by the Pump to move fluids across the system, enabling various subsystems to function effectively.</p>\n",
       "<h2>2. Pump</h2>\n",
       "<p>The Pump acts as a critical intermediary in the fluid management system. It utilizes mechanical rotation from the Electric Motor to move fluids like coolant through the system. This movement assists in thermal management, enabling components like the PTC Heater and Radiator to perform their functions effectively.</p>\n",
       "<h2>3. PTC Heater</h2>\n",
       "<p>The PTC Heater's purpose is to produce heat, which is crucial for maintaining optimal operating temperatures. It relies on Coolant moving from the Pump to manage heat dissipation effectively. It also plays a role in warming functions by exchanging heat with other components.</p>\n",
       "<h2>4. Battery Pack</h2>\n",
       "<p>The Battery Pack serves a dual purpose: it acts as a power provider and a thermal energy manager. It supplies electrical power to the Electric Motor and manages heat by generating or absorbing it, playing an essential role in the vehicle's electrical and thermal balance.</p>\n",
       "<h2>5. Hydaulic Cooling</h2>\n",
       "<p>This component's primary function is to transfer heat. It ensures that the system's thermal energy is distributed or dissipated effectively. This process involves moving heat to the Radiator, where it can be released into the environment.</p>\n",
       "<h2>6. Radiator</h2>\n",
       "<p>The Radiator facilitates the dissipation of heat from the Hydraulic Cooling system. It interacts with ambient air to release heat, thus regulating the vehicle's temperature levels and ensuring that other components can operate efficiently.</p>\n",
       "<h2>7. Chassis</h2>\n",
       "<p>The Chassis provides physical support and structural integrity for the mounting of components, ensuring they are securely positioned to perform their functions. It interacts with various components through mechanical interfaces.</p>\n",
       "<h2>Summary of Function Chains</h2>\n",
       "<ul>\n",
       "<li><strong>Power and Rotation Chain:</strong> Battery Pack → Electric Motor → Mech (Mechanical Rotation) → Pump</li>\n",
       "<li><strong>Heat Management Chain:</strong> Pump → PTC Heater → Hydraulic Cooling → Radiator</li>\n",
       "<li><strong>Fluid Management Chain:</strong> Radiator → Hydraulic Cooling → Pump</li>\n",
       "</ul>\n",
       "</body>\n",
       "</html>\n",
       "```"
      ],
      "text/plain": [
       "<IPython.core.display.HTML object>"
      ]
     },
     "metadata": {},
     "output_type": "display_data"
    },
    {
     "name": "stdin",
     "output_type": "stream",
     "text": [
      "Enter your prompt (or type 'exit' to quit):  Summary this is single paragraph.\n"
     ]
    },
    {
     "data": {
      "text/markdown": [
       "**Your Prompt:**\n",
       "\n",
       "Summary this is single paragraph.\n"
      ],
      "text/plain": [
       "<IPython.core.display.Markdown object>"
      ]
     },
     "metadata": {},
     "output_type": "display_data"
    },
    {
     "data": {
      "text/html": [
       "```html\n",
       "<!DOCTYPE html>\n",
       "\n",
       "<html>\n",
       "<head>\n",
       "<title>Summary of Component Purposes</title>\n",
       "\n",
       "</head>\n",
       "<body>\n",
       "<h1>Summary of Component Purposes Based on Function Chains</h1>\n",
       "<p>The components within the system model collaboratively manage power, mechanical, fluid, and thermal exchanges. The Electric Motor converts electrical power from the Battery Pack into mechanical rotation used by the Pump to facilitate fluid movement. This fluid movement is essential for the PTC Heater, which generates heat for thermal regulation, and for the Heat Transfer through the Hydraulic Cooling and Radiator, which effectively dissipate excess thermal energy. The Battery Pack not only provides the necessary electrical power but also plays a crucial role in heat absorption and generation, balancing the thermal dynamics of the system. The Chassis serves as the structural foundation, enabling secure mounting and interaction with other components. Together, these components create a cohesive system that ensures efficient energy flow, robust thermal management, and mechanical support, vital for the vehicle's optimal functioning.</p>\n",
       "</body>\n",
       "</html>\n",
       "```"
      ],
      "text/plain": [
       "<IPython.core.display.HTML object>"
      ]
     },
     "metadata": {},
     "output_type": "display_data"
    },
    {
     "name": "stdin",
     "output_type": "stream",
     "text": [
      "Enter your prompt (or type 'exit' to quit):  Summary further to desscribe the purpose of this Thermal System.\n"
     ]
    },
    {
     "data": {
      "text/markdown": [
       "**Your Prompt:**\n",
       "\n",
       "Summary further to desscribe the purpose of this Thermal System.\n"
      ],
      "text/plain": [
       "<IPython.core.display.Markdown object>"
      ]
     },
     "metadata": {},
     "output_type": "display_data"
    },
    {
     "data": {
      "text/html": [
       "```html\n",
       "<!DOCTYPE html>\n",
       "\n",
       "<html>\n",
       "<head>\n",
       "<title>Thermal System Purpose Summary</title>\n",
       "\n",
       "</head>\n",
       "<body>\n",
       "<h1>Summary of the Thermal System's Purpose</h1>\n",
       "<p>The thermal system within this model is designed primarily to maintain optimal operating temperatures for various vehicle components, enhancing performance and reliability. It achieves this by efficiently managing heat generation, distribution, and dissipation. The Electric Motor, powered by the Battery Pack, provides the mechanical force necessary to move coolants via the Pump, which is essential for heat transfer. The PTC Heater produces targeted heat, crucial during colder conditions, while the Hydraulic Cooling and Radiator components facilitate the removal of excess heat, preventing overheating and ensuring thermal stability. This system collectively ensures that all critical components operate within their specified temperature ranges, thereby enhancing the vehicle's energy efficiency, longevity, and safety. Ultimately, this sophisticated thermal management system is integral to balancing energy flow, ensuring the vehicle’s systems are thermally optimized for diverse operating conditions.</p>\n",
       "</body>\n",
       "</html>\n",
       "```"
      ],
      "text/plain": [
       "<IPython.core.display.HTML object>"
      ]
     },
     "metadata": {},
     "output_type": "display_data"
    },
    {
     "name": "stdin",
     "output_type": "stream",
     "text": [
      "Enter your prompt (or type 'exit' to quit):  What would be considered the scope of this thermal system.\n"
     ]
    },
    {
     "data": {
      "text/markdown": [
       "**Your Prompt:**\n",
       "\n",
       "What would be considered the scope of this thermal system.\n"
      ],
      "text/plain": [
       "<IPython.core.display.Markdown object>"
      ]
     },
     "metadata": {},
     "output_type": "display_data"
    },
    {
     "data": {
      "text/html": [
       "```html\n",
       "<!DOCTYPE html>\n",
       "\n",
       "<html>\n",
       "<head>\n",
       "<title>Scope of the Thermal System</title>\n",
       "\n",
       "</head>\n",
       "<body>\n",
       "<h1>Scope of the Thermal System</h1>\n",
       "<p>The scope of the thermal system in this model encompasses all activities related to temperature regulation and thermal energy management to ensure efficient and safe operation of the vehicle. Key aspects involve the generation, transfer, and dissipation of heat across the vehicle's critical components. Essential to this system are the Electric Motor and Battery Pack, which initially provide mechanical and electrical energy, subsequently facilitating the movement of coolants through the Pump. This process is pivotal in heat exchange activities involving the PTC Heater for warming needs and the Hydraulic Cooling and Radiator, which direct the removal of excessive heat into the environment. The system is also responsible for maintaining the operating temperatures of electronic components and minimizing energy loss due to thermal inefficiencies. Ultimately, the thermal system is integral not only for preserving component integrity but also for optimizing vehicle performance, efficiency and extending the lifespan of its components. Its comprehensive scope ensures adaptability across different environmental conditions and driving scenarios, providing robust thermal reliability throughout the vehicle's operational lifecycle.</p>\n",
       "</body>\n",
       "</html>\n",
       "```"
      ],
      "text/plain": [
       "<IPython.core.display.HTML object>"
      ]
     },
     "metadata": {},
     "output_type": "display_data"
    },
    {
     "name": "stdin",
     "output_type": "stream",
     "text": [
      "Enter your prompt (or type 'exit' to quit):  Make it only 5 lines of text.\n"
     ]
    },
    {
     "data": {
      "text/markdown": [
       "**Your Prompt:**\n",
       "\n",
       "Make it only 5 lines of text.\n"
      ],
      "text/plain": [
       "<IPython.core.display.Markdown object>"
      ]
     },
     "metadata": {},
     "output_type": "display_data"
    },
    {
     "data": {
      "text/html": [
       "```html\n",
       "<!DOCTYPE html>\n",
       "\n",
       "<html>\n",
       "<head>\n",
       "<title>Scope of the Thermal System</title>\n",
       "\n",
       "</head>\n",
       "<body>\n",
       "<h1>Scope of the Thermal System</h1>\n",
       "<p>The thermal system ensures efficient temperature regulation and energy management in the vehicle. It involves heat generation, transfer, and dissipation, facilitated by components like the Pump, PTC Heater, Hydraulic Cooling, and Radiator. This system protects electrical components from overheating and enhances overall vehicle performance by maintaining optimal operating temperatures. Furthermore, it adapts to various environmental conditions, ensuring robust thermal reliability and energy efficiency throughout the vehicle's lifecycle. Thus, it plays a critical role in extending component lifespan and optimizing operational efficiency.</p>\n",
       "</body>\n",
       "</html>\n",
       "```"
      ],
      "text/plain": [
       "<IPython.core.display.HTML object>"
      ]
     },
     "metadata": {},
     "output_type": "display_data"
    },
    {
     "name": "stdin",
     "output_type": "stream",
     "text": [
      "Enter your prompt (or type 'exit' to quit):  Write a some requirementa on the general operation of the thermal system Warm Battery functional chain.\n"
     ]
    },
    {
     "data": {
      "text/markdown": [
       "**Your Prompt:**\n",
       "\n",
       "Write a some requirementa on the general operation of the thermal system Warm Battery functional chain.\n"
      ],
      "text/plain": [
       "<IPython.core.display.Markdown object>"
      ]
     },
     "metadata": {},
     "output_type": "display_data"
    },
    {
     "data": {
      "text/html": [
       "```html\n",
       "<!DOCTYPE html>\n",
       "\n",
       "<html>\n",
       "<head>\n",
       "<title>Requirements for the Thermal System's Warm Battery Functional Chain</title>\n",
       "\n",
       "</head>\n",
       "<body>\n",
       "<h1>Requirements for the Thermal System's Warm Battery Functional Chain</h1>\n",
       "<ul>\n",
       "<li><strong>Heat Generation:</strong> The PTC Heater must efficiently generate adequate heat to maintain the battery temperature above the minimum threshold required for optimal performance.</li>\n",
       "<li><strong>Fluid Movement:</strong> The Pump must ensure continuous and controlled movement of the coolant fluid to facilitate consistent heat transfer to the battery pack.</li>\n",
       "<li><strong>Temperature Monitoring:</strong> Sensors must be implemented to continuously monitor the battery and coolant temperatures, ensuring rapid adjustments to the PTC Heater output as needed.</li>\n",
       "<li><strong>Energy Efficiency:</strong> The system should optimize energy usage by minimizing heat loss during transfer, thus preserving battery power for essential vehicle functions.</li>\n",
       "<li><strong>Environmental Adaptability:</strong> The thermal system must quickly adapt to changes in external temperatures to maintain a stable internal environment, particularly in cold climates.</li>\n",
       "</ul>\n",
       "</body>\n",
       "</html>\n",
       "```"
      ],
      "text/plain": [
       "<IPython.core.display.HTML object>"
      ]
     },
     "metadata": {},
     "output_type": "display_data"
    },
    {
     "name": "stdin",
     "output_type": "stream",
     "text": [
      "Enter your prompt (or type 'exit' to quit):  Create spectic requirements for the electric motor for MaxPower = 240000 |W|             Efficency = 0.89 |none|             MaxTorque = 320|Nm|             MaxRev =9795|rev/min|             cost =3500 |euro| \n"
     ]
    },
    {
     "data": {
      "text/markdown": [
       "**Your Prompt:**\n",
       "\n",
       "Create spectic requirements for the electric motor for MaxPower = 240000 |W|             Efficency = 0.89 |none|             MaxTorque = 320|Nm|             MaxRev =9795|rev/min|             cost =3500 |euro| \n"
      ],
      "text/plain": [
       "<IPython.core.display.Markdown object>"
      ]
     },
     "metadata": {},
     "output_type": "display_data"
    },
    {
     "data": {
      "text/html": [
       "```html\n",
       "<!DOCTYPE html>\n",
       "\n",
       "<html>\n",
       "<head>\n",
       "<title>Specific Requirements for the Electric Motor</title>\n",
       "\n",
       "</head>\n",
       "<body>\n",
       "<h1>Specific Requirements for the Electric Motor</h1>\n",
       "<ul>\n",
       "<li><strong>Maximum Power Output:</strong> The electric motor must be capable of delivering a maximum power output of 240,000 watts to meet performance expectations under peak demand conditions.</li>\n",
       "<li><strong>Efficiency:</strong> The motor should operate at an efficiency level of 0.89, ensuring minimal energy loss and optimal conversion of electrical energy to mechanical output.</li>\n",
       "<li><strong>Maximum Torque:</strong> The motor must produce a maximum torque of 320 Newton-meters, providing sufficient force for vehicle acceleration and load management.</li>\n",
       "<li><strong>Maximum Revolution:</strong> The motor should sustain a maximum rotational speed of 9,795 revolutions per minute without compromising structural integrity or performance stability.</li>\n",
       "<li><strong>Cost:</strong> The total cost of the electric motor should not exceed 3,500 euros, balancing performance features with economic feasibility for mass production.</li>\n",
       "</ul>\n",
       "</body>\n",
       "</html>\n",
       "```"
      ],
      "text/plain": [
       "<IPython.core.display.HTML object>"
      ]
     },
     "metadata": {},
     "output_type": "display_data"
    },
    {
     "name": "stdin",
     "output_type": "stream",
     "text": [
      "Enter your prompt (or type 'exit' to quit):  Please make each requirement a shall statement.\n"
     ]
    },
    {
     "data": {
      "text/markdown": [
       "**Your Prompt:**\n",
       "\n",
       "Please make each requirement a shall statement.\n"
      ],
      "text/plain": [
       "<IPython.core.display.Markdown object>"
      ]
     },
     "metadata": {},
     "output_type": "display_data"
    },
    {
     "data": {
      "text/html": [
       "```html\n",
       "<!DOCTYPE html>\n",
       "\n",
       "<html>\n",
       "<head>\n",
       "<title>Specific Requirements for the Electric Motor</title>\n",
       "\n",
       "</head>\n",
       "<body>\n",
       "<h1>Specific Requirements for the Electric Motor</h1>\n",
       "<ul>\n",
       "<li><strong>Maximum Power Output:</strong> The electric motor shall be capable of delivering a maximum power output of 240,000 watts to meet performance expectations under peak demand conditions.</li>\n",
       "<li><strong>Efficiency:</strong> The motor shall operate at an efficiency level of 0.89, ensuring minimal energy loss and optimal conversion of electrical energy to mechanical output.</li>\n",
       "<li><strong>Maximum Torque:</strong> The motor shall produce a maximum torque of 320 Newton-meters, providing sufficient force for vehicle acceleration and load management.</li>\n",
       "<li><strong>Maximum Revolution:</strong> The motor shall sustain a maximum rotational speed of 9,795 revolutions per minute without compromising structural integrity or performance stability.</li>\n",
       "<li><strong>Cost:</strong> The total cost of the electric motor shall not exceed 3,500 euros, balancing performance features with economic feasibility for mass production.</li>\n",
       "</ul>\n",
       "</body>\n",
       "</html>\n",
       "```"
      ],
      "text/plain": [
       "<IPython.core.display.HTML object>"
      ]
     },
     "metadata": {},
     "output_type": "display_data"
    },
    {
     "name": "stdin",
     "output_type": "stream",
     "text": [
      "Enter your prompt (or type 'exit' to quit):  Generate a set of requirement for Pump with shall statement around for these values  MaxTorque = 40 |Nm|             MaxPower = 150 |W|             MaxSpeed = 1000|rev/min|             cost=45 |euro| \n"
     ]
    },
    {
     "data": {
      "text/markdown": [
       "**Your Prompt:**\n",
       "\n",
       "Generate a set of requirement for Pump with shall statement around for these values  MaxTorque = 40 |Nm|             MaxPower = 150 |W|             MaxSpeed = 1000|rev/min|             cost=45 |euro| \n"
      ],
      "text/plain": [
       "<IPython.core.display.Markdown object>"
      ]
     },
     "metadata": {},
     "output_type": "display_data"
    },
    {
     "data": {
      "text/html": [
       "```html\n",
       "<!DOCTYPE html>\n",
       "\n",
       "<html>\n",
       "<head>\n",
       "<title>Specific Requirements for the Pump</title>\n",
       "\n",
       "</head>\n",
       "<body>\n",
       "<h1>Specific Requirements for the Pump</h1>\n",
       "<ul>\n",
       "<li><strong>Maximum Torque:</strong> The pump shall produce a maximum torque of 40 Newton-meters to effectively handle fluid movement and pressure requirements within the system.</li>\n",
       "<li><strong>Maximum Power Output:</strong> The pump shall be capable of delivering a maximum power output of 150 watts, ensuring efficient operation under all specified conditions.</li>\n",
       "<li><strong>Maximum Speed:</strong> The pump shall sustain a maximum rotational speed of 1,000 revolutions per minute without experiencing performance degradation or mechanical failure.</li>\n",
       "<li><strong>Cost:</strong> The total cost of the pump shall not exceed 45 euros, maintaining affordability while meeting the necessary design and performance specifications for mass production.</li>\n",
       "</ul>\n",
       "</body>\n",
       "</html>\n",
       "```"
      ],
      "text/plain": [
       "<IPython.core.display.HTML object>"
      ]
     },
     "metadata": {},
     "output_type": "display_data"
    },
    {
     "name": "stdin",
     "output_type": "stream",
     "text": [
      "Enter your prompt (or type 'exit' to quit):  Rewrite the previous reauirements in SI unit abreviations for clarity.\n"
     ]
    },
    {
     "data": {
      "text/markdown": [
       "**Your Prompt:**\n",
       "\n",
       "Rewrite the previous reauirements in SI unit abreviations for clarity.\n"
      ],
      "text/plain": [
       "<IPython.core.display.Markdown object>"
      ]
     },
     "metadata": {},
     "output_type": "display_data"
    },
    {
     "data": {
      "text/html": [
       "```html\n",
       "<!DOCTYPE html>\n",
       "\n",
       "<html>\n",
       "<head>\n",
       "<title>Specific Requirements for the Pump</title>\n",
       "\n",
       "</head>\n",
       "<body>\n",
       "<h1>Specific Requirements for the Pump</h1>\n",
       "<ul>\n",
       "<li><strong>Maximum Torque:</strong> The pump shall produce a maximum torque of 40 Nm to effectively handle fluid movement and pressure requirements within the system.</li>\n",
       "<li><strong>Maximum Power Output:</strong> The pump shall be capable of delivering a maximum power output of 150 W, ensuring efficient operation under all specified conditions.</li>\n",
       "<li><strong>Maximum Speed:</strong> The pump shall sustain a maximum rotational speed of 1,000 rpm without experiencing performance degradation or mechanical failure.</li>\n",
       "<li><strong>Cost:</strong> The total cost of the pump shall not exceed 45 €, maintaining affordability while meeting the necessary design and performance specifications for mass production.</li>\n",
       "</ul>\n",
       "</body>\n",
       "</html>\n",
       "```"
      ],
      "text/plain": [
       "<IPython.core.display.HTML object>"
      ]
     },
     "metadata": {},
     "output_type": "display_data"
    },
    {
     "name": "stdin",
     "output_type": "stream",
     "text": [
      "Enter your prompt (or type 'exit' to quit):  Rewite the requirements for the motor in SI units for clarity.\n"
     ]
    },
    {
     "data": {
      "text/markdown": [
       "**Your Prompt:**\n",
       "\n",
       "Rewite the requirements for the motor in SI units for clarity.\n"
      ],
      "text/plain": [
       "<IPython.core.display.Markdown object>"
      ]
     },
     "metadata": {},
     "output_type": "display_data"
    },
    {
     "data": {
      "text/html": [
       "```html\n",
       "<!DOCTYPE html>\n",
       "\n",
       "<html>\n",
       "<head>\n",
       "<title>Specific Requirements for the Electric Motor</title>\n",
       "\n",
       "</head>\n",
       "<body>\n",
       "<h1>Specific Requirements for the Electric Motor</h1>\n",
       "<ul>\n",
       "<li><strong>Maximum Power Output:</strong> The electric motor shall be capable of delivering a maximum power output of 240 kW to meet performance expectations under peak demand conditions.</li>\n",
       "<li><strong>Efficiency:</strong> The motor shall operate at an efficiency level of 0.89, ensuring minimal energy loss and optimal conversion of electrical energy to mechanical output.</li>\n",
       "<li><strong>Maximum Torque:</strong> The motor shall produce a maximum torque of 320 Nm, providing sufficient force for vehicle acceleration and load management.</li>\n",
       "<li><strong>Maximum Revolution:</strong> The motor shall sustain a maximum rotational speed of 9,795 rpm without compromising structural integrity or performance stability.</li>\n",
       "<li><strong>Cost:</strong> The total cost of the electric motor shall not exceed 3,500 €, balancing performance features with economic feasibility for mass production.</li>\n",
       "</ul>\n",
       "</body>\n",
       "</html>\n",
       "```"
      ],
      "text/plain": [
       "<IPython.core.display.HTML object>"
      ]
     },
     "metadata": {},
     "output_type": "display_data"
    },
    {
     "name": "stdin",
     "output_type": "stream",
     "text": [
      "Enter your prompt (or type 'exit' to quit):  exit\n"
     ]
    },
    {
     "name": "stdout",
     "output_type": "stream",
     "text": [
      "Exiting...\n"
     ]
    }
   ],
   "source": [
    "analyzer.interactive_chat()"
   ]
  },
  {
   "cell_type": "code",
   "execution_count": null,
   "id": "57dea895-123c-4c7f-b386-89510fcfcd9d",
   "metadata": {
    "jupyter": {
     "source_hidden": true
    }
   },
   "outputs": [],
   "source": []
  },
  {
   "cell_type": "markdown",
   "id": "8fb2484d-c283-416d-b5ae-03289fc2a8a1",
   "metadata": {},
   "source": [
    "# "
   ]
  },
  {
   "cell_type": "code",
   "execution_count": null,
   "id": "a4c59542-ddf7-4047-9007-2613a7f96589",
   "metadata": {
    "jupyter": {
     "source_hidden": true
    }
   },
   "outputs": [],
   "source": []
  }
 ],
 "metadata": {
  "kernelspec": {
   "display_name": "Python 3 (ipykernel)",
   "language": "python",
   "name": "python3"
  },
  "language_info": {
   "codemirror_mode": {
    "name": "ipython",
    "version": 3
   },
   "file_extension": ".py",
   "mimetype": "text/x-python",
   "name": "python",
   "nbconvert_exporter": "python",
   "pygments_lexer": "ipython3",
   "version": "3.11.7"
  }
 },
 "nbformat": 4,
 "nbformat_minor": 5
}
